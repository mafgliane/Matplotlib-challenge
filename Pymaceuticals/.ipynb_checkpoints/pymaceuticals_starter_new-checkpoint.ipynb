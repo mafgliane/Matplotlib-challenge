{
 "cells": [
  {
   "cell_type": "markdown",
   "metadata": {},
   "source": [
    "# Pymaceuticals Inc.\n",
    "---\n",
    "\n",
    "### Analysis\n",
    "* Overall, it is clear that Capomulin is a viable drug regimen to reduce tumor growth.\n",
    "* Capomulin had the most number of mice complete the study, with the exception of Remicane, all other regimens observed a number of mice deaths across the duration of the study. \n",
    "* There is a strong correlation between mouse weight and tumor volume, indicating that mouse weight may be contributing to the effectiveness of any drug regimen.\n",
    "* There was one potential outlier within the Infubinol regimen. While most mice showed tumor volume increase, there was one mouse that had a reduction in tumor growth in the study. "
   ]
  },
  {
   "cell_type": "code",
   "execution_count": 10,
   "metadata": {},
   "outputs": [
    {
     "data": {
      "text/html": [
       "<div>\n",
       "<style scoped>\n",
       "    .dataframe tbody tr th:only-of-type {\n",
       "        vertical-align: middle;\n",
       "    }\n",
       "\n",
       "    .dataframe tbody tr th {\n",
       "        vertical-align: top;\n",
       "    }\n",
       "\n",
       "    .dataframe thead th {\n",
       "        text-align: right;\n",
       "    }\n",
       "</style>\n",
       "<table border=\"1\" class=\"dataframe\">\n",
       "  <thead>\n",
       "    <tr style=\"text-align: right;\">\n",
       "      <th></th>\n",
       "      <th>Mouse ID</th>\n",
       "      <th>Drug Regimen</th>\n",
       "      <th>Sex</th>\n",
       "      <th>Age_months</th>\n",
       "      <th>Weight (g)</th>\n",
       "      <th>Timepoint</th>\n",
       "      <th>Tumor Volume (mm3)</th>\n",
       "      <th>Metastatic Sites</th>\n",
       "    </tr>\n",
       "  </thead>\n",
       "  <tbody>\n",
       "    <tr>\n",
       "      <td>0</td>\n",
       "      <td>k403</td>\n",
       "      <td>Ramicane</td>\n",
       "      <td>Male</td>\n",
       "      <td>21</td>\n",
       "      <td>16</td>\n",
       "      <td>0</td>\n",
       "      <td>45.000000</td>\n",
       "      <td>0</td>\n",
       "    </tr>\n",
       "    <tr>\n",
       "      <td>1</td>\n",
       "      <td>k403</td>\n",
       "      <td>Ramicane</td>\n",
       "      <td>Male</td>\n",
       "      <td>21</td>\n",
       "      <td>16</td>\n",
       "      <td>5</td>\n",
       "      <td>38.825898</td>\n",
       "      <td>0</td>\n",
       "    </tr>\n",
       "    <tr>\n",
       "      <td>2</td>\n",
       "      <td>k403</td>\n",
       "      <td>Ramicane</td>\n",
       "      <td>Male</td>\n",
       "      <td>21</td>\n",
       "      <td>16</td>\n",
       "      <td>10</td>\n",
       "      <td>35.014271</td>\n",
       "      <td>1</td>\n",
       "    </tr>\n",
       "    <tr>\n",
       "      <td>3</td>\n",
       "      <td>k403</td>\n",
       "      <td>Ramicane</td>\n",
       "      <td>Male</td>\n",
       "      <td>21</td>\n",
       "      <td>16</td>\n",
       "      <td>15</td>\n",
       "      <td>34.223992</td>\n",
       "      <td>1</td>\n",
       "    </tr>\n",
       "    <tr>\n",
       "      <td>4</td>\n",
       "      <td>k403</td>\n",
       "      <td>Ramicane</td>\n",
       "      <td>Male</td>\n",
       "      <td>21</td>\n",
       "      <td>16</td>\n",
       "      <td>20</td>\n",
       "      <td>32.997729</td>\n",
       "      <td>1</td>\n",
       "    </tr>\n",
       "  </tbody>\n",
       "</table>\n",
       "</div>"
      ],
      "text/plain": [
       "  Mouse ID Drug Regimen   Sex  Age_months  Weight (g)  Timepoint  \\\n",
       "0     k403     Ramicane  Male          21          16          0   \n",
       "1     k403     Ramicane  Male          21          16          5   \n",
       "2     k403     Ramicane  Male          21          16         10   \n",
       "3     k403     Ramicane  Male          21          16         15   \n",
       "4     k403     Ramicane  Male          21          16         20   \n",
       "\n",
       "   Tumor Volume (mm3)  Metastatic Sites  \n",
       "0           45.000000                 0  \n",
       "1           38.825898                 0  \n",
       "2           35.014271                 1  \n",
       "3           34.223992                 1  \n",
       "4           32.997729                 1  "
      ]
     },
     "execution_count": 10,
     "metadata": {},
     "output_type": "execute_result"
    }
   ],
   "source": [
    "# Dependencies and Setup\n",
    "import matplotlib.pyplot as plt\n",
    "import pandas as pd\n",
    "import scipy.stats as st\n",
    "\n",
    "# Study data files\n",
    "mouse_metadata_path = \"data/Mouse_metadata.csv\"\n",
    "study_results_path = \"data/Study_results.csv\"\n",
    "\n",
    "# Read the mouse data and the study results\n",
    "mouse_metadata = pd.read_csv(mouse_metadata_path)\n",
    "study_results = pd.read_csv(study_results_path)\n",
    "\n",
    "# Combine the data into a single dataset\n",
    "merge_table = pd.merge(mouse_metadata, study_results, on=\"Mouse ID\")\n",
    "merge_table.head()"
   ]
  },
  {
   "cell_type": "markdown",
   "metadata": {},
   "source": [
    "## Summary Statistics"
   ]
  },
  {
   "cell_type": "code",
   "execution_count": 11,
   "metadata": {
    "scrolled": false
   },
   "outputs": [
    {
     "data": {
      "text/html": [
       "<div>\n",
       "<style scoped>\n",
       "    .dataframe tbody tr th:only-of-type {\n",
       "        vertical-align: middle;\n",
       "    }\n",
       "\n",
       "    .dataframe tbody tr th {\n",
       "        vertical-align: top;\n",
       "    }\n",
       "\n",
       "    .dataframe thead th {\n",
       "        text-align: right;\n",
       "    }\n",
       "</style>\n",
       "<table border=\"1\" class=\"dataframe\">\n",
       "  <thead>\n",
       "    <tr style=\"text-align: right;\">\n",
       "      <th></th>\n",
       "      <th>Mean Tumor Volume</th>\n",
       "      <th>Median Tumor Volume</th>\n",
       "      <th>Tumor Volume Variance</th>\n",
       "      <th>Tumor Volume Std. Dev.</th>\n",
       "      <th>Tumor Volume Std. Err.</th>\n",
       "    </tr>\n",
       "    <tr>\n",
       "      <th>Drug Regimen</th>\n",
       "      <th></th>\n",
       "      <th></th>\n",
       "      <th></th>\n",
       "      <th></th>\n",
       "      <th></th>\n",
       "    </tr>\n",
       "  </thead>\n",
       "  <tbody>\n",
       "    <tr>\n",
       "      <td>Capomulin</td>\n",
       "      <td>40.675741</td>\n",
       "      <td>41.557809</td>\n",
       "      <td>24.947764</td>\n",
       "      <td>4.994774</td>\n",
       "      <td>0.329346</td>\n",
       "    </tr>\n",
       "    <tr>\n",
       "      <td>Ceftamin</td>\n",
       "      <td>52.591172</td>\n",
       "      <td>51.776157</td>\n",
       "      <td>39.290177</td>\n",
       "      <td>6.268188</td>\n",
       "      <td>0.469821</td>\n",
       "    </tr>\n",
       "    <tr>\n",
       "      <td>Infubinol</td>\n",
       "      <td>52.884795</td>\n",
       "      <td>51.820584</td>\n",
       "      <td>43.128684</td>\n",
       "      <td>6.567243</td>\n",
       "      <td>0.492236</td>\n",
       "    </tr>\n",
       "    <tr>\n",
       "      <td>Ketapril</td>\n",
       "      <td>55.235638</td>\n",
       "      <td>53.698743</td>\n",
       "      <td>68.553577</td>\n",
       "      <td>8.279709</td>\n",
       "      <td>0.603860</td>\n",
       "    </tr>\n",
       "    <tr>\n",
       "      <td>Naftisol</td>\n",
       "      <td>54.331565</td>\n",
       "      <td>52.509285</td>\n",
       "      <td>66.173479</td>\n",
       "      <td>8.134708</td>\n",
       "      <td>0.596466</td>\n",
       "    </tr>\n",
       "    <tr>\n",
       "      <td>Placebo</td>\n",
       "      <td>54.033581</td>\n",
       "      <td>52.288934</td>\n",
       "      <td>61.168083</td>\n",
       "      <td>7.821003</td>\n",
       "      <td>0.581331</td>\n",
       "    </tr>\n",
       "    <tr>\n",
       "      <td>Propriva</td>\n",
       "      <td>52.322552</td>\n",
       "      <td>50.854632</td>\n",
       "      <td>42.351070</td>\n",
       "      <td>6.507770</td>\n",
       "      <td>0.512884</td>\n",
       "    </tr>\n",
       "    <tr>\n",
       "      <td>Ramicane</td>\n",
       "      <td>40.216745</td>\n",
       "      <td>40.673236</td>\n",
       "      <td>23.486704</td>\n",
       "      <td>4.846308</td>\n",
       "      <td>0.320955</td>\n",
       "    </tr>\n",
       "    <tr>\n",
       "      <td>Stelasyn</td>\n",
       "      <td>54.233149</td>\n",
       "      <td>52.431737</td>\n",
       "      <td>59.450562</td>\n",
       "      <td>7.710419</td>\n",
       "      <td>0.573111</td>\n",
       "    </tr>\n",
       "    <tr>\n",
       "      <td>Zoniferol</td>\n",
       "      <td>53.236507</td>\n",
       "      <td>51.818479</td>\n",
       "      <td>48.533355</td>\n",
       "      <td>6.966589</td>\n",
       "      <td>0.516398</td>\n",
       "    </tr>\n",
       "  </tbody>\n",
       "</table>\n",
       "</div>"
      ],
      "text/plain": [
       "              Mean Tumor Volume  Median Tumor Volume  Tumor Volume Variance  \\\n",
       "Drug Regimen                                                                  \n",
       "Capomulin             40.675741            41.557809              24.947764   \n",
       "Ceftamin              52.591172            51.776157              39.290177   \n",
       "Infubinol             52.884795            51.820584              43.128684   \n",
       "Ketapril              55.235638            53.698743              68.553577   \n",
       "Naftisol              54.331565            52.509285              66.173479   \n",
       "Placebo               54.033581            52.288934              61.168083   \n",
       "Propriva              52.322552            50.854632              42.351070   \n",
       "Ramicane              40.216745            40.673236              23.486704   \n",
       "Stelasyn              54.233149            52.431737              59.450562   \n",
       "Zoniferol             53.236507            51.818479              48.533355   \n",
       "\n",
       "              Tumor Volume Std. Dev.  Tumor Volume Std. Err.  \n",
       "Drug Regimen                                                  \n",
       "Capomulin                   4.994774                0.329346  \n",
       "Ceftamin                    6.268188                0.469821  \n",
       "Infubinol                   6.567243                0.492236  \n",
       "Ketapril                    8.279709                0.603860  \n",
       "Naftisol                    8.134708                0.596466  \n",
       "Placebo                     7.821003                0.581331  \n",
       "Propriva                    6.507770                0.512884  \n",
       "Ramicane                    4.846308                0.320955  \n",
       "Stelasyn                    7.710419                0.573111  \n",
       "Zoniferol                   6.966589                0.516398  "
      ]
     },
     "execution_count": 11,
     "metadata": {},
     "output_type": "execute_result"
    }
   ],
   "source": [
    "# Generate a summary statistics table of mean, median, variance, standard deviation, and SEM of the tumor volume for each regimen\n",
    "\n",
    "# Group by Drug Regimen\n",
    "by_regimen=merge_table.groupby(['Drug Regimen'])\n",
    "\n",
    "# Compute for the mean\n",
    "mean_t_vol= by_regimen['Tumor Volume (mm3)'].mean()\n",
    "\n",
    "# Compute for the median\n",
    "median_t_vol= by_regimen['Tumor Volume (mm3)'].median()\n",
    "\n",
    "# Compute for the variance\n",
    "var_t_vol= by_regimen['Tumor Volume (mm3)'].var()\n",
    "\n",
    "# Compute for the standard deviation\n",
    "std_t_vol= by_regimen['Tumor Volume (mm3)'].std()\n",
    "\n",
    "# Compute for the standard error of the mean\n",
    "sem_t_vol= by_regimen['Tumor Volume (mm3)'].sem()\n",
    "\n",
    "# Put summary in a dataframe\n",
    "stat_summary_df=pd.DataFrame({\"Mean Tumor Volume\": mean_t_vol, \n",
    "                                 \"Median Tumor Volume\": median_t_vol,\n",
    "                                 \"Tumor Volume Variance\": var_t_vol,\n",
    "                                 \"Tumor Volume Std. Dev.\": std_t_vol,\n",
    "                                 \"Tumor Volume Std. Err.\": sem_t_vol})\n",
    "stat_summary_df"
   ]
  },
  {
   "cell_type": "markdown",
   "metadata": {},
   "source": [
    "## Bar and Pie Charts"
   ]
  },
  {
   "cell_type": "code",
   "execution_count": 12,
   "metadata": {},
   "outputs": [
    {
     "data": {
      "image/png": "[encoded data removed]",
      "text/plain": [
       "<Figure size 432x288 with 1 Axes>"
      ]
     },
     "metadata": {
      "needs_background": "light"
     },
     "output_type": "display_data"
    }
   ],
   "source": [
    "# Generate a bar plot showing number of data points for each treatment regimen using pandas\n",
    "\n",
    "#Compute data points by regimen\n",
    "data_points=by_regimen.count().sort_values('Mouse ID',ascending=False)\n",
    "data_points_reg= data_points['Mouse ID']\n",
    "\n",
    "data_points_reg.plot(kind='bar')\n",
    "\n",
    "#Labels\n",
    "plt.xlabel(\"Drug Regimen\")\n",
    "plt.ylabel(\"Number of Data Points\")\n",
    "plt.show()"
   ]
  },
  {
   "cell_type": "code",
   "execution_count": 13,
   "metadata": {},
   "outputs": [
    {
     "data": {
      "image/png": "[encoded data removed]",
      "text/plain": [
       "<Figure size 432x288 with 1 Axes>"
      ]
     },
     "metadata": {
      "needs_background": "light"
     },
     "output_type": "display_data"
    }
   ],
   "source": [
    "# Generate a bar plot showing number of data points for each treatment regimen using pyplot\n",
    "#plt.bar(x_axis, users, color='r', alpha=0.5, align=\"center\")\n",
    "\n",
    "import numpy as np\n",
    "\n",
    "#Assign x and y lists\n",
    "x_axis = np.arange(len(data_points_reg))\n",
    "users = data_points_reg.values\n",
    "plt.bar(x_axis, users, align=\"center\", width=0.5)\n",
    "\n",
    "# Tell matplotlib where we would like to place each of our x axis headers \n",
    "tick_locations = [value for value in x_axis] \n",
    "plt.xticks(tick_locations, data_points_reg.index, rotation=\"vertical\") \n",
    "\n",
    "#Labels\n",
    "plt.xlabel(\"Drug Regimen\")\n",
    "plt.ylabel(\"Number of Data Points\")\n",
    "\n",
    "plt.show()"
   ]
  },
  {
   "cell_type": "code",
   "execution_count": 14,
   "metadata": {},
   "outputs": [
    {
     "data": {
      "image/png": "[encoded data removed]",
      "text/plain": [
       "<Figure size 432x288 with 1 Axes>"
      ]
     },
     "metadata": {},
     "output_type": "display_data"
    }
   ],
   "source": [
    "# Generate a pie plot showing the distribution of female versus male mice using pandas\n",
    "\n",
    "#Get gender distribution\n",
    "by_gender=mouse_metadata.groupby(['Sex'])\n",
    "gender_breakdown=by_gender['Sex'].count()\n",
    "\n",
    "#Plot\n",
    "gender_breakdown.plot(kind='pie', autopct='%1.1f%%')\n",
    "plt.ylabel(\"Sex\")\n",
    "plt.show()\n"
   ]
  },
  {
   "cell_type": "code",
   "execution_count": 15,
   "metadata": {},
   "outputs": [
    {
     "data": {
      "image/png": "[encoded data removed]",
      "text/plain": [
       "<Figure size 432x288 with 1 Axes>"
      ]
     },
     "metadata": {},
     "output_type": "display_data"
    }
   ],
   "source": [
    "# Generate a pie plot showing the distribution of female versus male mice using pyplot\n",
    "\n",
    "#using same variables from the pandas plot\n",
    "plt.pie(gender_breakdown,labels=gender_breakdown.index, autopct=\"%1.1f%%\")\n",
    "plt.ylabel(\"Sex\")\n",
    "plt.show()\n"
   ]
  },
  {
   "cell_type": "markdown",
   "metadata": {},
   "source": [
    "## Quartiles, Outliers and Boxplots"
   ]
  },
  {
   "cell_type": "code",
   "execution_count": 18,
   "metadata": {},
   "outputs": [
    {
     "data": {
      "text/html": [
       "<div>\n",
       "<style scoped>\n",
       "    .dataframe tbody tr th:only-of-type {\n",
       "        vertical-align: middle;\n",
       "    }\n",
       "\n",
       "    .dataframe tbody tr th {\n",
       "        vertical-align: top;\n",
       "    }\n",
       "\n",
       "    .dataframe thead th {\n",
       "        text-align: right;\n",
       "    }\n",
       "</style>\n",
       "<table border=\"1\" class=\"dataframe\">\n",
       "  <thead>\n",
       "    <tr style=\"text-align: right;\">\n",
       "      <th></th>\n",
       "      <th>Mouse ID</th>\n",
       "      <th>Timepoint</th>\n",
       "      <th>Tumor Volume (mm3)</th>\n",
       "      <th>Metastatic Sites</th>\n",
       "      <th>Drug Regimen</th>\n",
       "      <th>Sex</th>\n",
       "      <th>Age_months</th>\n",
       "      <th>Weight (g)</th>\n",
       "    </tr>\n",
       "  </thead>\n",
       "  <tbody>\n",
       "    <tr>\n",
       "      <td>0</td>\n",
       "      <td>a203</td>\n",
       "      <td>45</td>\n",
       "      <td>67.973419</td>\n",
       "      <td>2</td>\n",
       "      <td>Infubinol</td>\n",
       "      <td>Female</td>\n",
       "      <td>20</td>\n",
       "      <td>23</td>\n",
       "    </tr>\n",
       "    <tr>\n",
       "      <td>1</td>\n",
       "      <td>a251</td>\n",
       "      <td>45</td>\n",
       "      <td>65.525743</td>\n",
       "      <td>1</td>\n",
       "      <td>Infubinol</td>\n",
       "      <td>Female</td>\n",
       "      <td>21</td>\n",
       "      <td>25</td>\n",
       "    </tr>\n",
       "    <tr>\n",
       "      <td>2</td>\n",
       "      <td>a262</td>\n",
       "      <td>45</td>\n",
       "      <td>70.717621</td>\n",
       "      <td>4</td>\n",
       "      <td>Placebo</td>\n",
       "      <td>Female</td>\n",
       "      <td>17</td>\n",
       "      <td>29</td>\n",
       "    </tr>\n",
       "    <tr>\n",
       "      <td>3</td>\n",
       "      <td>a275</td>\n",
       "      <td>45</td>\n",
       "      <td>62.999356</td>\n",
       "      <td>3</td>\n",
       "      <td>Ceftamin</td>\n",
       "      <td>Female</td>\n",
       "      <td>20</td>\n",
       "      <td>28</td>\n",
       "    </tr>\n",
       "    <tr>\n",
       "      <td>4</td>\n",
       "      <td>a366</td>\n",
       "      <td>30</td>\n",
       "      <td>63.440686</td>\n",
       "      <td>1</td>\n",
       "      <td>Stelasyn</td>\n",
       "      <td>Female</td>\n",
       "      <td>16</td>\n",
       "      <td>29</td>\n",
       "    </tr>\n",
       "    <tr>\n",
       "      <td>...</td>\n",
       "      <td>...</td>\n",
       "      <td>...</td>\n",
       "      <td>...</td>\n",
       "      <td>...</td>\n",
       "      <td>...</td>\n",
       "      <td>...</td>\n",
       "      <td>...</td>\n",
       "      <td>...</td>\n",
       "    </tr>\n",
       "    <tr>\n",
       "      <td>244</td>\n",
       "      <td>z435</td>\n",
       "      <td>10</td>\n",
       "      <td>48.710661</td>\n",
       "      <td>0</td>\n",
       "      <td>Propriva</td>\n",
       "      <td>Female</td>\n",
       "      <td>12</td>\n",
       "      <td>26</td>\n",
       "    </tr>\n",
       "    <tr>\n",
       "      <td>245</td>\n",
       "      <td>z578</td>\n",
       "      <td>45</td>\n",
       "      <td>30.638696</td>\n",
       "      <td>0</td>\n",
       "      <td>Ramicane</td>\n",
       "      <td>Male</td>\n",
       "      <td>11</td>\n",
       "      <td>16</td>\n",
       "    </tr>\n",
       "    <tr>\n",
       "      <td>246</td>\n",
       "      <td>z581</td>\n",
       "      <td>45</td>\n",
       "      <td>62.754451</td>\n",
       "      <td>3</td>\n",
       "      <td>Infubinol</td>\n",
       "      <td>Female</td>\n",
       "      <td>24</td>\n",
       "      <td>25</td>\n",
       "    </tr>\n",
       "    <tr>\n",
       "      <td>247</td>\n",
       "      <td>z795</td>\n",
       "      <td>45</td>\n",
       "      <td>65.741070</td>\n",
       "      <td>3</td>\n",
       "      <td>Naftisol</td>\n",
       "      <td>Female</td>\n",
       "      <td>13</td>\n",
       "      <td>29</td>\n",
       "    </tr>\n",
       "    <tr>\n",
       "      <td>248</td>\n",
       "      <td>z969</td>\n",
       "      <td>45</td>\n",
       "      <td>73.867845</td>\n",
       "      <td>4</td>\n",
       "      <td>Naftisol</td>\n",
       "      <td>Male</td>\n",
       "      <td>9</td>\n",
       "      <td>30</td>\n",
       "    </tr>\n",
       "  </tbody>\n",
       "</table>\n",
       "<p>249 rows × 8 columns</p>\n",
       "</div>"
      ],
      "text/plain": [
       "    Mouse ID  Timepoint  Tumor Volume (mm3)  Metastatic Sites Drug Regimen  \\\n",
       "0       a203         45           67.973419                 2    Infubinol   \n",
       "1       a251         45           65.525743                 1    Infubinol   \n",
       "2       a262         45           70.717621                 4      Placebo   \n",
       "3       a275         45           62.999356                 3     Ceftamin   \n",
       "4       a366         30           63.440686                 1     Stelasyn   \n",
       "..       ...        ...                 ...               ...          ...   \n",
       "244     z435         10           48.710661                 0     Propriva   \n",
       "245     z578         45           30.638696                 0     Ramicane   \n",
       "246     z581         45           62.754451                 3    Infubinol   \n",
       "247     z795         45           65.741070                 3     Naftisol   \n",
       "248     z969         45           73.867845                 4     Naftisol   \n",
       "\n",
       "        Sex  Age_months  Weight (g)  \n",
       "0    Female          20          23  \n",
       "1    Female          21          25  \n",
       "2    Female          17          29  \n",
       "3    Female          20          28  \n",
       "4    Female          16          29  \n",
       "..      ...         ...         ...  \n",
       "244  Female          12          26  \n",
       "245    Male          11          16  \n",
       "246  Female          24          25  \n",
       "247  Female          13          29  \n",
       "248    Male           9          30  \n",
       "\n",
       "[249 rows x 8 columns]"
      ]
     },
     "execution_count": 18,
     "metadata": {},
     "output_type": "execute_result"
    }
   ],
   "source": [
    "# Calculate the final tumor volume of each mouse. \n",
    "\n",
    "#Get the rows with highest Timepoint value per Mouse ID, then reset the index\n",
    "\n",
    "#final_volume=end_size_df.loc[end_size_df.groupby(['Mouse ID'])['Timepoint'].idxmax()].reset_index()\n",
    "final_volume=merge_table.loc[merge_table.groupby(['Mouse ID'])['Timepoint'].idxmax()].reset_index()\n",
    "\n",
    "#Rearrange the order of the columns to match sample output\n",
    "final_volume[['Mouse ID', 'Timepoint','Tumor Volume (mm3)',\n",
    "              'Metastatic Sites','Drug Regimen', 'Sex',\n",
    "              'Age_months','Weight (g)']]"
   ]
  },
  {
   "cell_type": "code",
   "execution_count": 133,
   "metadata": {},
   "outputs": [
    {
     "name": "stdout",
     "output_type": "stream",
     "text": [
      "The lower quartile of occupancy is: 32.38\n",
      "The upper quartile of occupancy is: 40.16\n",
      "The interquartile range of occupancy is: 7.78\n",
      "The the median of occupancy is: 38.13\n",
      "Values below 20.705 could be outliers.\n",
      "Values above 51.832 could be outliers.\n",
      "\n"
     ]
    }
   ],
   "source": [
    "#Setting index to Drug Regimen in order to use this column to filter\n",
    "regimens=final_volume.set_index('Drug Regimen')\n",
    "\n",
    "# Calculate the final tumor volume of each mouse in Capomulin treatment regime. \n",
    "capomulin_volumes=regimens.loc[['Capomulin'],['Tumor Volume (mm3)']]\n",
    "\n",
    "quartiles = capomulin_volumes.quantile([.25,.5,.75])\n",
    "lowerq = quartiles.loc[0.25]['Tumor Volume (mm3)']\n",
    "medianq = quartiles.loc[0.50]['Tumor Volume (mm3)']\n",
    "upperq = quartiles.loc[0.75]['Tumor Volume (mm3)']\n",
    "iqr = upperq-lowerq\n",
    "\n",
    "# Calculate the IQR and quantitatively determine if there are any potential outliers. \n",
    "lower_bound = lowerq - (1.5*iqr)\n",
    "upper_bound = upperq + (1.5*iqr)\n",
    "\n",
    "#Show results\n",
    "print(f\"The lower quartile of occupancy is: {round(lowerq,2)}\")\n",
    "print(f\"The upper quartile of occupancy is: {round(upperq,2)}\")\n",
    "print(f\"The interquartile range of occupancy is: {round(iqr,2)}\")\n",
    "print(f\"The the median of occupancy is: {round(medianq,2)}\")\n",
    "print(f\"Values below {round(lower_bound,3)} could be outliers.\")\n",
    "print(f\"Values above {round(upper_bound,3)} could be outliers.\\n\")\n",
    "#print(f\"Capomulin potential outliers: Series([],{capomulin_volumes['Tumor Volume (mm3)']}\")"
   ]
  },
  {
   "cell_type": "code",
   "execution_count": 8,
   "metadata": {},
   "outputs": [
    {
     "name": "stdout",
     "output_type": "stream",
     "text": [
      "The lower quartile of occupancy is: 32.38\n",
      "The upper quartile of occupancy is: 40.16\n",
      "The interquartile range of occupancy is: 7.78\n",
      "The the median of occupancy is: 38.13 \n",
      "Values below 20.705 could be outliers.\n",
      "Values above 51.832 could be outliers.\n",
      "\n",
      "Capomulin potential outliers: Series([], Name: Tumor Volume (mm3), dtype: float64)\n"
     ]
    }
   ],
   "source": [
    "#STILL INCOMPLETE.  Need output for last line\n",
    "\n",
    "# Calculate the final tumor volume of each mouse in Capomulin treatment regime. \n",
    "# Calculate the IQR and quantitatively determine if there are any potential outliers. \n"
   ]
  },
  {
   "cell_type": "code",
   "execution_count": 92,
   "metadata": {},
   "outputs": [
    {
     "name": "stdout",
     "output_type": "stream",
     "text": [
      "The lower quartile of occupancy is: 31.56\n",
      "The upper quartile of occupancy is: 40.66\n",
      "The interquartile range of occupancy is: 9.1\n",
      "The the median of occupancy is: 36.56\n",
      "Values below 17.913 could be outliers.\n",
      "Values above 54.307 could be outliers.\n"
     ]
    }
   ],
   "source": [
    "# Calculate the final tumor volume of each mouse in Ramicane treatment regime. \n",
    "ramicane_volumes=regimens.loc[['Ramicane'],['Tumor Volume (mm3)']]\n",
    "\n",
    "quartiles = ramicane_volumes.quantile([.25,.5,.75])\n",
    "lowerq = quartiles.loc[0.25]['Tumor Volume (mm3)']\n",
    "medianq = quartiles.loc[0.50]['Tumor Volume (mm3)']\n",
    "upperq = quartiles.loc[0.75]['Tumor Volume (mm3)']\n",
    "iqr = upperq-lowerq\n",
    "\n",
    "# Calculate the IQR and quantitatively determine if there are any potential outliers. \n",
    "lower_bound = lowerq - (1.5*iqr)\n",
    "upper_bound = upperq + (1.5*iqr)\n",
    "\n",
    "#Show results\n",
    "print(f\"The lower quartile of occupancy is: {round(lowerq,2)}\")\n",
    "print(f\"The upper quartile of occupancy is: {round(upperq,2)}\")\n",
    "print(f\"The interquartile range of occupancy is: {round(iqr,2)}\")\n",
    "print(f\"The the median of occupancy is: {round(medianq,2)}\")\n",
    "print(f\"Values below {round(lower_bound,3)} could be outliers.\")\n",
    "print(f\"Values above {round(upper_bound,3)} could be outliers.\")\n",
    "#print(f\"Capomulin potential outliers: Series({capomulin_volumes['Tumor Volume (mm3)']})\")"
   ]
  },
  {
   "cell_type": "code",
   "execution_count": 94,
   "metadata": {},
   "outputs": [
    {
     "name": "stdout",
     "output_type": "stream",
     "text": [
      "The lower quartile of occupancy is: 54.05\n",
      "The upper quartile of occupancy is: 65.53\n",
      "The interquartile range of occupancy is: 11.48\n",
      "The the median of occupancy is: 60.17\n",
      "Values below 36.833 could be outliers.\n",
      "Values above 82.741 could be outliers.\n"
     ]
    }
   ],
   "source": [
    "# Calculate the final tumor volume of each mouse in Infubinol treatment regime. \n",
    "infubinol_volumes=regimens.loc[['Infubinol'],['Tumor Volume (mm3)']]\n",
    "\n",
    "quartiles = infubinol_volumes.quantile([.25,.5,.75])\n",
    "lowerq = quartiles.loc[0.25]['Tumor Volume (mm3)']\n",
    "medianq = quartiles.loc[0.50]['Tumor Volume (mm3)']\n",
    "upperq = quartiles.loc[0.75]['Tumor Volume (mm3)']\n",
    "iqr = upperq-lowerq\n",
    "\n",
    "# Calculate the IQR and quantitatively determine if there are any potential outliers. \n",
    "lower_bound = lowerq - (1.5*iqr)\n",
    "upper_bound = upperq + (1.5*iqr)\n",
    "\n",
    "#Show results\n",
    "print(f\"The lower quartile of occupancy is: {round(lowerq,2)}\")\n",
    "print(f\"The upper quartile of occupancy is: {round(upperq,2)}\")\n",
    "print(f\"The interquartile range of occupancy is: {round(iqr,2)}\")\n",
    "print(f\"The the median of occupancy is: {round(medianq,2)}\")\n",
    "print(f\"Values below {round(lower_bound,3)} could be outliers.\")\n",
    "print(f\"Values above {round(upper_bound,3)} could be outliers.\")\n",
    "#print(f\"Capomulin potential outliers: Series({pd.Series(capomulin_volumes).dtype})\")\n"
   ]
  },
  {
   "cell_type": "code",
   "execution_count": 95,
   "metadata": {},
   "outputs": [
    {
     "name": "stdout",
     "output_type": "stream",
     "text": [
      "The lower quartile of occupancy is: 48.72\n",
      "The upper quartile of occupancy is: 64.3\n",
      "The interquartile range of occupancy is: 15.58\n",
      "The the median of occupancy is: 59.85\n",
      "Values below 25.355 could be outliers.\n",
      "Values above 87.666 could be outliers.\n"
     ]
    }
   ],
   "source": [
    "# Calculate the final tumor volume of each mouse in Ceftamin treatment regime. \n",
    "ceftamin_volumes=regimens.loc[['Ceftamin'],['Tumor Volume (mm3)']]\n",
    "\n",
    "quartiles = ceftamin_volumes.quantile([.25,.5,.75])\n",
    "lowerq = quartiles.loc[0.25]['Tumor Volume (mm3)']\n",
    "medianq = quartiles.loc[0.50]['Tumor Volume (mm3)']\n",
    "upperq = quartiles.loc[0.75]['Tumor Volume (mm3)']\n",
    "iqr = upperq-lowerq\n",
    "\n",
    "# Calculate the IQR and quantitatively determine if there are any potential outliers. \n",
    "lower_bound = lowerq - (1.5*iqr)\n",
    "upper_bound = upperq + (1.5*iqr)\n",
    "\n",
    "#Show results\n",
    "print(f\"The lower quartile of occupancy is: {round(lowerq,2)}\")\n",
    "print(f\"The upper quartile of occupancy is: {round(upperq,2)}\")\n",
    "print(f\"The interquartile range of occupancy is: {round(iqr,2)}\")\n",
    "print(f\"The the median of occupancy is: {round(medianq,2)}\")\n",
    "print(f\"Values below {round(lower_bound,3)} could be outliers.\")\n",
    "print(f\"Values above {round(upper_bound,3)} could be outliers.\")\n",
    "#print(f\"Capomulin potential outliers: Series({pd.Series(capomulin_volumes).dtype})\")"
   ]
  },
  {
   "cell_type": "code",
   "execution_count": 168,
   "metadata": {},
   "outputs": [
    {
     "data": {
      "image/png": "[encoded data removed]",
      "text/plain": [
       "<Figure size 432x288 with 1 Axes>"
      ]
     },
     "metadata": {
      "needs_background": "light"
     },
     "output_type": "display_data"
    }
   ],
   "source": [
    "# Generate a box plot of the final tumor volume of each mouse across four regimens of interest\n",
    "\n",
    "#Create dataframe to list in order to use in boxplots\n",
    "capomulin_list=capomulin_volumes['Tumor Volume (mm3)'].values.tolist()\n",
    "ramicane_list=ramicane_volumes['Tumor Volume (mm3)'].values.tolist()\n",
    "infubinol_list=infubinol_volumes['Tumor Volume (mm3)'].values.tolist()\n",
    "ceftamin_list=ceftamin_volumes['Tumor Volume (mm3)'].values.tolist()\n",
    "\n",
    "to_plot = [capomulin_list, ramicane_list, infubinol_list, ceftamin_list]\n",
    "\n",
    "#Create a figure instance\n",
    "fig = plt.figure(1)\n",
    "\n",
    "# Create an axes instance\n",
    "ax = fig.add_subplot(111)\n",
    "\n",
    "# Create the boxplot\n",
    "ax.boxplot(to_plot)\n",
    "\n",
    "# Set x-axis labels\n",
    "ax.set_xticklabels(['Capomulin', 'Ramicane', 'Infubinol', 'Ceftamin'])\n",
    "\n",
    "# Set y-axis label\n",
    "ax.set_ylabel('Final Tumor Volume (mm3)')\n",
    "\n",
    "plt.show()"
   ]
  },
  {
   "cell_type": "markdown",
   "metadata": {},
   "source": [
    "## Line and Scatter Plots"
   ]
  },
  {
   "cell_type": "code",
   "execution_count": 244,
   "metadata": {},
   "outputs": [
    {
     "data": {
      "text/plain": [
       "Text(0, 0.5, 'Tumor Volume (mm3)')"
      ]
     },
     "execution_count": 244,
     "metadata": {},
     "output_type": "execute_result"
    },
    {
     "data": {
      "image/png": "[encoded data removed]",
      "text/plain": [
       "<Figure size 432x288 with 1 Axes>"
      ]
     },
     "metadata": {
      "needs_background": "light"
     },
     "output_type": "display_data"
    }
   ],
   "source": [
    "# Generate a line plot of time point versus tumor volume for a mouse treated with Capomulin\n",
    "\n",
    "#find a mouse that used Capomulin ====> use s185\n",
    "#sample_df=merge_table.loc[(merge_table['Drug Regimen']==\"Capomulin\"),['Mouse ID']]\n",
    "\n",
    "#Filter by Mouse ID = \"s185\" and Drug Regimen = \"Capomulin\"\n",
    "sample_df=merge_table.loc[(merge_table['Mouse ID']==\"s185\") &\n",
    "                          (merge_table['Drug Regimen']==\"Capomulin\"),['Tumor Volume (mm3)','Timepoint']]\n",
    "\n",
    "#Create the line plot using filtered data \n",
    "plt.plot(sample_df['Tumor Volume (mm3)'],sample_df['Timepoint'])\n",
    "\n",
    "# Give our graph axis labels\n",
    "plt.title(\"Capomulin Treatment of Mouse s185\")\n",
    "plt.xlabel(\"Timepoint (days)\")\n",
    "plt.ylabel(\"Tumor Volume (mm3)\")\n",
    "\n",
    "#plt.show()"
   ]
  },
  {
   "cell_type": "code",
   "execution_count": 271,
   "metadata": {},
   "outputs": [
    {
     "data": {
      "image/png": "[encoded data removed]",
      "text/plain": [
       "<Figure size 432x288 with 1 Axes>"
      ]
     },
     "metadata": {
      "needs_background": "light"
     },
     "output_type": "display_data"
    }
   ],
   "source": [
    "# Generate a scatter plot of mouse weight versus average tumor volume for the Capomulin regimen\n",
    "\n",
    "#Filter initial df by Drug Regimen = 'Capomulin'\n",
    "capo_sample_df = merge_table.loc[(merge_table['Drug Regimen']==\"Capomulin\"),\n",
    "                                ['Mouse ID','Tumor Volume (mm3)','Weight (g)']]\n",
    "\n",
    "#Group data by Mouse ID to get individual data\n",
    "indv_mouse_data = capo_sample_df.groupby(['Mouse ID'])\n",
    "\n",
    "#average tumor volume by mouse - use as y-axis\n",
    "indv_tumor_vol = indv_mouse_data['Tumor Volume (mm3)'].mean()\n",
    "\n",
    "#weight of the mouse - use as x-axis, used mean to have 1 row of data per mouse\n",
    "indv_wt = indv_mouse_data['Weight (g)'].mean()\n",
    "\n",
    "#Add labels\n",
    "plt.xlabel(\"Weight (g)\")\n",
    "plt.ylabel(\"Average Tumor Volume (mm3)\")\n",
    "\n",
    "#create the plot\n",
    "plt.scatter(indv_wt, indv_tumor_vol, marker=\"o\")\n",
    "\n",
    "plt.show()\n"
   ]
  },
  {
   "cell_type": "markdown",
   "metadata": {},
   "source": [
    "## Correlation and Regression"
   ]
  },
  {
   "cell_type": "code",
   "execution_count": 282,
   "metadata": {},
   "outputs": [
    {
     "name": "stdout",
     "output_type": "stream",
     "text": [
      "The correlation between mouse weight and the average tumor volume is 0.84\n"
     ]
    },
    {
     "data": {
      "image/png": "[encoded data removed]",
      "text/plain": [
       "<Figure size 432x288 with 1 Axes>"
      ]
     },
     "metadata": {
      "needs_background": "light"
     },
     "output_type": "display_data"
    }
   ],
   "source": [
    "# Calculate the correlation coefficient and linear regression model \n",
    "# for mouse weight and average tumor volume for the Capomulin regimen\n",
    "\n",
    "from scipy.stats import linregress\n",
    "\n",
    "print(f\"The correlation between mouse weight and the average tumor volume is {round(st.pearsonr(indv_wt,indv_tumor_vol)[0],2)}\")\n",
    "\n",
    "(slope, intercept, rvalue, pvalue, stderr) = linregress(indv_wt, indv_tumor_vol)\n",
    "regress_values = indv_wt * slope + intercept\n",
    "line_eq = \"y = \" + str(round(slope,2)) + \"x + \" + str(round(intercept,2))\n",
    "plt.scatter(indv_wt,indv_tumor_vol, marker=\"o\")\n",
    "plt.plot(indv_wt,regress_values,\"r-\")\n",
    "plt.annotate(line_eq,(6,10),fontsize=15,color=\"red\")\n",
    "plt.xlabel(\"Weight (g)\")\n",
    "plt.ylabel(\"Average Tumor Volume (mm3)\")\n",
    "plt.show()"
   ]
  }
 ],
 "metadata": {
  "anaconda-cloud": {},
  "kernelspec": {
   "display_name": "Python 3",
   "language": "python",
   "name": "python3"
  },
  "language_info": {
   "codemirror_mode": {
    "name": "ipython",
    "version": 3
   },
   "file_extension": ".py",
   "mimetype": "text/x-python",
   "name": "python",
   "nbconvert_exporter": "python",
   "pygments_lexer": "ipython3",
   "version": "3.7.4"
  }
 },
 "nbformat": 4,
 "nbformat_minor": 2
}
